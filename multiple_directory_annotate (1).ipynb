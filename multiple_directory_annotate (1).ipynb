{
 "cells": [
  {
   "cell_type": "code",
   "execution_count": null,
   "id": "23407aff",
   "metadata": {},
   "outputs": [],
   "source": [
    "import os\n",
    "import annotate_deg\n",
    "import glob"
   ]
  },
  {
   "cell_type": "code",
   "execution_count": null,
   "id": "a5ae8faa",
   "metadata": {},
   "outputs": [],
   "source": [
    "deg_dict = {}\n",
    "for path, subdirs, files in os.walk('.'): #Traverse the current directory\n",
    "    for name in files:\n",
    "        if \"_DE_Results\" and \".xlsx\" in name:\n",
    "            targetPattern = f\"{path}/*.csv\"\n",
    "            deg_dict[f'{path}/{name}'] = glob.glob(targetPattern)[0]"
   ]
  },
  {
   "cell_type": "code",
   "execution_count": null,
   "id": "dd1291a9",
   "metadata": {},
   "outputs": [],
   "source": [
    "deg_dict"
   ]
  },
  {
   "cell_type": "code",
   "execution_count": null,
   "id": "aca3574b",
   "metadata": {},
   "outputs": [],
   "source": [
    "for k, v in deg_dict.items():\n",
    "    print(v,k, sep = \"\\n\")\n",
    "    annotate_deg.annotate(v, k)"
   ]
  },
  {
   "cell_type": "code",
   "execution_count": null,
   "id": "c2a40911",
   "metadata": {},
   "outputs": [],
   "source": [
    "for path, subdirs, files in os.walk('.'): #Traverse the current directory\n",
    "    for file in files:\n",
    "        if \"new\" in file:\n",
    "            print(f'{path}/{file}')\n",
    "            os.remove(f'{path}/{file}')"
   ]
  }
 ],
 "metadata": {
  "kernelspec": {
   "display_name": "Python 3 (ipykernel)",
   "language": "python",
   "name": "python3"
  },
  "language_info": {
   "codemirror_mode": {
    "name": "ipython",
    "version": 3
   },
   "file_extension": ".py",
   "mimetype": "text/x-python",
   "name": "python",
   "nbconvert_exporter": "python",
   "pygments_lexer": "ipython3",
   "version": "3.9.7"
  }
 },
 "nbformat": 4,
 "nbformat_minor": 5
}
